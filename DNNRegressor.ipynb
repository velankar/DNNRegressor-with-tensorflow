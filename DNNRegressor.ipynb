{
 "cells": [
  {
   "cell_type": "markdown",
   "metadata": {},
   "source": [
    "\n",
    "California Housing Data\n",
    "\n",
    "This data set contains information about all the block groups in California from the 1990 Census. In this sample a block group on average includes 1425.5 individuals living in a geographically compact area. \n",
    "\n",
    "The task is to aproximate the median house value of each block from the values of the rest of the variables. \n",
    "\n",
    " It has been obtained from the LIACC repository. The original page where the data set can be found is: http://www.liaad.up.pt/~ltorgo/Regression/DataSets.html.\n",
    " "
   ]
  },
  {
   "cell_type": "markdown",
   "metadata": {
    "collapsed": true
   },
   "source": [
    "The Features:\n",
    " \n",
    "* housingMedianAge: continuous. \n",
    "* totalRooms: continuous. \n",
    "* totalBedrooms: continuous. \n",
    "* population: continuous. \n",
    "* households: continuous. \n",
    "* medianIncome: continuous. \n",
    "* medianHouseValue: continuous. "
   ]
  },
  {
   "cell_type": "markdown",
   "metadata": {},
   "source": [
    "## The Data"
   ]
  },
  {
   "cell_type": "markdown",
   "metadata": {},
   "source": [
    "** Import the cal_housing.csv file with pandas. Separate it into a training (70%) and testing set(30%).**"
   ]
  },
  {
   "cell_type": "code",
   "execution_count": 2,
   "metadata": {},
   "outputs": [],
   "source": [
    "import pandas as pd"
   ]
  },
  {
   "cell_type": "code",
   "execution_count": 3,
   "metadata": {},
   "outputs": [],
   "source": [
    "housing = pd.read_csv('cal_housing_clean.csv')"
   ]
  },
  {
   "cell_type": "code",
   "execution_count": 4,
   "metadata": {},
   "outputs": [
    {
     "data": {
      "text/html": [
       "<div>\n",
       "<style scoped>\n",
       "    .dataframe tbody tr th:only-of-type {\n",
       "        vertical-align: middle;\n",
       "    }\n",
       "\n",
       "    .dataframe tbody tr th {\n",
       "        vertical-align: top;\n",
       "    }\n",
       "\n",
       "    .dataframe thead th {\n",
       "        text-align: right;\n",
       "    }\n",
       "</style>\n",
       "<table border=\"1\" class=\"dataframe\">\n",
       "  <thead>\n",
       "    <tr style=\"text-align: right;\">\n",
       "      <th></th>\n",
       "      <th>housingMedianAge</th>\n",
       "      <th>totalRooms</th>\n",
       "      <th>totalBedrooms</th>\n",
       "      <th>population</th>\n",
       "      <th>households</th>\n",
       "      <th>medianIncome</th>\n",
       "      <th>medianHouseValue</th>\n",
       "    </tr>\n",
       "  </thead>\n",
       "  <tbody>\n",
       "    <tr>\n",
       "      <th>0</th>\n",
       "      <td>41.0</td>\n",
       "      <td>880.0</td>\n",
       "      <td>129.0</td>\n",
       "      <td>322.0</td>\n",
       "      <td>126.0</td>\n",
       "      <td>8.3252</td>\n",
       "      <td>452600.0</td>\n",
       "    </tr>\n",
       "    <tr>\n",
       "      <th>1</th>\n",
       "      <td>21.0</td>\n",
       "      <td>7099.0</td>\n",
       "      <td>1106.0</td>\n",
       "      <td>2401.0</td>\n",
       "      <td>1138.0</td>\n",
       "      <td>8.3014</td>\n",
       "      <td>358500.0</td>\n",
       "    </tr>\n",
       "    <tr>\n",
       "      <th>2</th>\n",
       "      <td>52.0</td>\n",
       "      <td>1467.0</td>\n",
       "      <td>190.0</td>\n",
       "      <td>496.0</td>\n",
       "      <td>177.0</td>\n",
       "      <td>7.2574</td>\n",
       "      <td>352100.0</td>\n",
       "    </tr>\n",
       "    <tr>\n",
       "      <th>3</th>\n",
       "      <td>52.0</td>\n",
       "      <td>1274.0</td>\n",
       "      <td>235.0</td>\n",
       "      <td>558.0</td>\n",
       "      <td>219.0</td>\n",
       "      <td>5.6431</td>\n",
       "      <td>341300.0</td>\n",
       "    </tr>\n",
       "    <tr>\n",
       "      <th>4</th>\n",
       "      <td>52.0</td>\n",
       "      <td>1627.0</td>\n",
       "      <td>280.0</td>\n",
       "      <td>565.0</td>\n",
       "      <td>259.0</td>\n",
       "      <td>3.8462</td>\n",
       "      <td>342200.0</td>\n",
       "    </tr>\n",
       "  </tbody>\n",
       "</table>\n",
       "</div>"
      ],
      "text/plain": [
       "   housingMedianAge  totalRooms  totalBedrooms  population  households  \\\n",
       "0              41.0       880.0          129.0       322.0       126.0   \n",
       "1              21.0      7099.0         1106.0      2401.0      1138.0   \n",
       "2              52.0      1467.0          190.0       496.0       177.0   \n",
       "3              52.0      1274.0          235.0       558.0       219.0   \n",
       "4              52.0      1627.0          280.0       565.0       259.0   \n",
       "\n",
       "   medianIncome  medianHouseValue  \n",
       "0        8.3252          452600.0  \n",
       "1        8.3014          358500.0  \n",
       "2        7.2574          352100.0  \n",
       "3        5.6431          341300.0  \n",
       "4        3.8462          342200.0  "
      ]
     },
     "execution_count": 4,
     "metadata": {},
     "output_type": "execute_result"
    }
   ],
   "source": [
    "housing.head()"
   ]
  },
  {
   "cell_type": "code",
   "execution_count": 5,
   "metadata": {},
   "outputs": [
    {
     "data": {
      "text/html": [
       "<div>\n",
       "<style scoped>\n",
       "    .dataframe tbody tr th:only-of-type {\n",
       "        vertical-align: middle;\n",
       "    }\n",
       "\n",
       "    .dataframe tbody tr th {\n",
       "        vertical-align: top;\n",
       "    }\n",
       "\n",
       "    .dataframe thead th {\n",
       "        text-align: right;\n",
       "    }\n",
       "</style>\n",
       "<table border=\"1\" class=\"dataframe\">\n",
       "  <thead>\n",
       "    <tr style=\"text-align: right;\">\n",
       "      <th></th>\n",
       "      <th>count</th>\n",
       "      <th>mean</th>\n",
       "      <th>std</th>\n",
       "      <th>min</th>\n",
       "      <th>25%</th>\n",
       "      <th>50%</th>\n",
       "      <th>75%</th>\n",
       "      <th>max</th>\n",
       "    </tr>\n",
       "  </thead>\n",
       "  <tbody>\n",
       "    <tr>\n",
       "      <th>housingMedianAge</th>\n",
       "      <td>20640.0</td>\n",
       "      <td>28.639486</td>\n",
       "      <td>12.585558</td>\n",
       "      <td>1.0000</td>\n",
       "      <td>18.0000</td>\n",
       "      <td>29.0000</td>\n",
       "      <td>37.00000</td>\n",
       "      <td>52.0000</td>\n",
       "    </tr>\n",
       "    <tr>\n",
       "      <th>totalRooms</th>\n",
       "      <td>20640.0</td>\n",
       "      <td>2635.763081</td>\n",
       "      <td>2181.615252</td>\n",
       "      <td>2.0000</td>\n",
       "      <td>1447.7500</td>\n",
       "      <td>2127.0000</td>\n",
       "      <td>3148.00000</td>\n",
       "      <td>39320.0000</td>\n",
       "    </tr>\n",
       "    <tr>\n",
       "      <th>totalBedrooms</th>\n",
       "      <td>20640.0</td>\n",
       "      <td>537.898014</td>\n",
       "      <td>421.247906</td>\n",
       "      <td>1.0000</td>\n",
       "      <td>295.0000</td>\n",
       "      <td>435.0000</td>\n",
       "      <td>647.00000</td>\n",
       "      <td>6445.0000</td>\n",
       "    </tr>\n",
       "    <tr>\n",
       "      <th>population</th>\n",
       "      <td>20640.0</td>\n",
       "      <td>1425.476744</td>\n",
       "      <td>1132.462122</td>\n",
       "      <td>3.0000</td>\n",
       "      <td>787.0000</td>\n",
       "      <td>1166.0000</td>\n",
       "      <td>1725.00000</td>\n",
       "      <td>35682.0000</td>\n",
       "    </tr>\n",
       "    <tr>\n",
       "      <th>households</th>\n",
       "      <td>20640.0</td>\n",
       "      <td>499.539680</td>\n",
       "      <td>382.329753</td>\n",
       "      <td>1.0000</td>\n",
       "      <td>280.0000</td>\n",
       "      <td>409.0000</td>\n",
       "      <td>605.00000</td>\n",
       "      <td>6082.0000</td>\n",
       "    </tr>\n",
       "    <tr>\n",
       "      <th>medianIncome</th>\n",
       "      <td>20640.0</td>\n",
       "      <td>3.870671</td>\n",
       "      <td>1.899822</td>\n",
       "      <td>0.4999</td>\n",
       "      <td>2.5634</td>\n",
       "      <td>3.5348</td>\n",
       "      <td>4.74325</td>\n",
       "      <td>15.0001</td>\n",
       "    </tr>\n",
       "    <tr>\n",
       "      <th>medianHouseValue</th>\n",
       "      <td>20640.0</td>\n",
       "      <td>206855.816909</td>\n",
       "      <td>115395.615874</td>\n",
       "      <td>14999.0000</td>\n",
       "      <td>119600.0000</td>\n",
       "      <td>179700.0000</td>\n",
       "      <td>264725.00000</td>\n",
       "      <td>500001.0000</td>\n",
       "    </tr>\n",
       "  </tbody>\n",
       "</table>\n",
       "</div>"
      ],
      "text/plain": [
       "                    count           mean            std         min  \\\n",
       "housingMedianAge  20640.0      28.639486      12.585558      1.0000   \n",
       "totalRooms        20640.0    2635.763081    2181.615252      2.0000   \n",
       "totalBedrooms     20640.0     537.898014     421.247906      1.0000   \n",
       "population        20640.0    1425.476744    1132.462122      3.0000   \n",
       "households        20640.0     499.539680     382.329753      1.0000   \n",
       "medianIncome      20640.0       3.870671       1.899822      0.4999   \n",
       "medianHouseValue  20640.0  206855.816909  115395.615874  14999.0000   \n",
       "\n",
       "                          25%          50%           75%          max  \n",
       "housingMedianAge      18.0000      29.0000      37.00000      52.0000  \n",
       "totalRooms          1447.7500    2127.0000    3148.00000   39320.0000  \n",
       "totalBedrooms        295.0000     435.0000     647.00000    6445.0000  \n",
       "population           787.0000    1166.0000    1725.00000   35682.0000  \n",
       "households           280.0000     409.0000     605.00000    6082.0000  \n",
       "medianIncome           2.5634       3.5348       4.74325      15.0001  \n",
       "medianHouseValue  119600.0000  179700.0000  264725.00000  500001.0000  "
      ]
     },
     "execution_count": 5,
     "metadata": {},
     "output_type": "execute_result"
    }
   ],
   "source": [
    "housing.describe().transpose()"
   ]
  },
  {
   "cell_type": "code",
   "execution_count": 6,
   "metadata": {
    "scrolled": true
   },
   "outputs": [],
   "source": [
    "x_data = housing.drop(['medianHouseValue'],axis=1)"
   ]
  },
  {
   "cell_type": "code",
   "execution_count": 7,
   "metadata": {},
   "outputs": [],
   "source": [
    "y_val = housing['medianHouseValue']"
   ]
  },
  {
   "cell_type": "code",
   "execution_count": 8,
   "metadata": {},
   "outputs": [],
   "source": [
    "from sklearn.model_selection import train_test_split"
   ]
  },
  {
   "cell_type": "code",
   "execution_count": 9,
   "metadata": {},
   "outputs": [],
   "source": [
    "X_train, X_test, y_train, y_test = train_test_split(x_data,y_val,test_size=0.3,random_state=101)"
   ]
  },
  {
   "cell_type": "markdown",
   "metadata": {},
   "source": [
    "### Scale the Feature Data\n",
    "\n",
    "** Use sklearn preprocessing to create a MinMaxScaler for the feature data. Fit this scaler only to the training data. Then use it to transform X_test and X_train. Then use the scaled X_test and X_train along with pd.Dataframe to re-create two dataframes of scaled data.**"
   ]
  },
  {
   "cell_type": "code",
   "execution_count": 10,
   "metadata": {},
   "outputs": [],
   "source": [
    "from sklearn.preprocessing import MinMaxScaler"
   ]
  },
  {
   "cell_type": "code",
   "execution_count": 11,
   "metadata": {},
   "outputs": [],
   "source": [
    "scaler = MinMaxScaler()"
   ]
  },
  {
   "cell_type": "code",
   "execution_count": 12,
   "metadata": {},
   "outputs": [
    {
     "data": {
      "text/plain": [
       "MinMaxScaler(copy=True, feature_range=(0, 1))"
      ]
     },
     "execution_count": 12,
     "metadata": {},
     "output_type": "execute_result"
    }
   ],
   "source": [
    "scaler.fit(X_train)"
   ]
  },
  {
   "cell_type": "code",
   "execution_count": 13,
   "metadata": {},
   "outputs": [],
   "source": [
    "X_train = pd.DataFrame(data=scaler.transform(X_train),columns = X_train.columns,index=X_train.index)"
   ]
  },
  {
   "cell_type": "code",
   "execution_count": 14,
   "metadata": {},
   "outputs": [],
   "source": [
    "X_test = pd.DataFrame(data=scaler.transform(X_test),columns = X_test.columns,index=X_test.index)"
   ]
  },
  {
   "cell_type": "markdown",
   "metadata": {},
   "source": [
    "### Create Feature Columns\n",
    "\n",
    "** Create the necessary tf.feature_column objects for the estimator. They should all be trated as continuous numeric_columns. **"
   ]
  },
  {
   "cell_type": "code",
   "execution_count": 15,
   "metadata": {},
   "outputs": [
    {
     "data": {
      "text/plain": [
       "Index(['housingMedianAge', 'totalRooms', 'totalBedrooms', 'population',\n",
       "       'households', 'medianIncome', 'medianHouseValue'],\n",
       "      dtype='object')"
      ]
     },
     "execution_count": 15,
     "metadata": {},
     "output_type": "execute_result"
    }
   ],
   "source": [
    "housing.columns"
   ]
  },
  {
   "cell_type": "code",
   "execution_count": 18,
   "metadata": {},
   "outputs": [],
   "source": [
    "import tensorflow as tf"
   ]
  },
  {
   "cell_type": "code",
   "execution_count": 19,
   "metadata": {},
   "outputs": [],
   "source": [
    "age = tf.feature_column.numeric_column('housingMedianAge')\n",
    "rooms = tf.feature_column.numeric_column('totalRooms')\n",
    "bedrooms = tf.feature_column.numeric_column('totalBedrooms')\n",
    "pop = tf.feature_column.numeric_column('population')\n",
    "households = tf.feature_column.numeric_column('households')\n",
    "income = tf.feature_column.numeric_column('medianIncome')"
   ]
  },
  {
   "cell_type": "code",
   "execution_count": 20,
   "metadata": {},
   "outputs": [],
   "source": [
    "feat_cols = [ age,rooms,bedrooms,pop,households,income]"
   ]
  },
  {
   "cell_type": "markdown",
   "metadata": {},
   "source": [
    "** Create the input function for the estimator object. (play around with batch_size and num_epochs)**"
   ]
  },
  {
   "cell_type": "code",
   "execution_count": 21,
   "metadata": {},
   "outputs": [],
   "source": [
    "input_func = tf.estimator.inputs.pandas_input_fn(x=X_train,y=y_train ,batch_size=10,num_epochs=1000,\n",
    "                                            shuffle=True)"
   ]
  },
  {
   "cell_type": "markdown",
   "metadata": {},
   "source": [
    "** Create the estimator model. Use a DNNRegressor. Play around with the hidden units! **"
   ]
  },
  {
   "cell_type": "code",
   "execution_count": 22,
   "metadata": {},
   "outputs": [
    {
     "name": "stdout",
     "output_type": "stream",
     "text": [
      "INFO:tensorflow:Using default config.\n",
      "WARNING:tensorflow:Using temporary folder as model directory: /tmp/tmp_7ed5qvm\n",
      "INFO:tensorflow:Using config: {'_model_dir': '/tmp/tmp_7ed5qvm', '_tf_random_seed': None, '_save_summary_steps': 100, '_save_checkpoints_steps': None, '_save_checkpoints_secs': 600, '_session_config': None, '_keep_checkpoint_max': 5, '_keep_checkpoint_every_n_hours': 10000, '_log_step_count_steps': 100, '_train_distribute': None, '_device_fn': None, '_service': None, '_cluster_spec': <tensorflow.python.training.server_lib.ClusterSpec object at 0x7fd62b671da0>, '_task_type': 'worker', '_task_id': 0, '_global_id_in_cluster': 0, '_master': '', '_evaluation_master': '', '_is_chief': True, '_num_ps_replicas': 0, '_num_worker_replicas': 1}\n"
     ]
    }
   ],
   "source": [
    "model = tf.estimator.DNNRegressor(hidden_units=[6,6,6],feature_columns=feat_cols)"
   ]
  },
  {
   "cell_type": "markdown",
   "metadata": {},
   "source": [
    "##### ** Train the model for ~1,000 steps. (Later come back to this and train it for more and check for improvement) **"
   ]
  },
  {
   "cell_type": "code",
   "execution_count": 23,
   "metadata": {},
   "outputs": [
    {
     "name": "stdout",
     "output_type": "stream",
     "text": [
      "INFO:tensorflow:Calling model_fn.\n",
      "INFO:tensorflow:Done calling model_fn.\n",
      "INFO:tensorflow:Create CheckpointSaverHook.\n",
      "INFO:tensorflow:Graph was finalized.\n",
      "INFO:tensorflow:Running local_init_op.\n",
      "INFO:tensorflow:Done running local_init_op.\n",
      "INFO:tensorflow:Saving checkpoints for 0 into /tmp/tmp_7ed5qvm/model.ckpt.\n",
      "INFO:tensorflow:loss = 404145440000.0, step = 1\n",
      "INFO:tensorflow:global_step/sec: 557.024\n",
      "INFO:tensorflow:loss = 634884850000.0, step = 101 (0.181 sec)\n",
      "INFO:tensorflow:global_step/sec: 565.422\n",
      "INFO:tensorflow:loss = 541859120000.0, step = 201 (0.181 sec)\n",
      "INFO:tensorflow:global_step/sec: 481.433\n",
      "INFO:tensorflow:loss = 316506500000.0, step = 301 (0.204 sec)\n",
      "INFO:tensorflow:global_step/sec: 567.176\n",
      "INFO:tensorflow:loss = 693216200000.0, step = 401 (0.178 sec)\n",
      "INFO:tensorflow:global_step/sec: 654.537\n",
      "INFO:tensorflow:loss = 288225800000.0, step = 501 (0.151 sec)\n",
      "INFO:tensorflow:global_step/sec: 667.808\n",
      "INFO:tensorflow:loss = 732739400000.0, step = 601 (0.150 sec)\n",
      "INFO:tensorflow:global_step/sec: 650.719\n",
      "INFO:tensorflow:loss = 290437600000.0, step = 701 (0.154 sec)\n",
      "INFO:tensorflow:global_step/sec: 677.21\n",
      "INFO:tensorflow:loss = 228219860000.0, step = 801 (0.149 sec)\n",
      "INFO:tensorflow:global_step/sec: 642.09\n",
      "INFO:tensorflow:loss = 236920180000.0, step = 901 (0.154 sec)\n",
      "INFO:tensorflow:global_step/sec: 592.582\n",
      "INFO:tensorflow:loss = 70723540000.0, step = 1001 (0.169 sec)\n",
      "INFO:tensorflow:global_step/sec: 499.816\n",
      "INFO:tensorflow:loss = 190069540000.0, step = 1101 (0.201 sec)\n",
      "INFO:tensorflow:global_step/sec: 586.474\n",
      "INFO:tensorflow:loss = 116856080000.0, step = 1201 (0.169 sec)\n",
      "INFO:tensorflow:global_step/sec: 659.966\n",
      "INFO:tensorflow:loss = 88254366000.0, step = 1301 (0.152 sec)\n",
      "INFO:tensorflow:global_step/sec: 656.512\n",
      "INFO:tensorflow:loss = 75745570000.0, step = 1401 (0.152 sec)\n",
      "INFO:tensorflow:global_step/sec: 653.469\n",
      "INFO:tensorflow:loss = 105959480000.0, step = 1501 (0.153 sec)\n",
      "INFO:tensorflow:global_step/sec: 664.462\n",
      "INFO:tensorflow:loss = 73831270000.0, step = 1601 (0.150 sec)\n",
      "INFO:tensorflow:global_step/sec: 660.152\n",
      "INFO:tensorflow:loss = 266450750000.0, step = 1701 (0.153 sec)\n",
      "INFO:tensorflow:global_step/sec: 669.085\n",
      "INFO:tensorflow:loss = 115247680000.0, step = 1801 (0.149 sec)\n",
      "INFO:tensorflow:global_step/sec: 662.045\n",
      "INFO:tensorflow:loss = 248253740000.0, step = 1901 (0.152 sec)\n",
      "INFO:tensorflow:global_step/sec: 656.095\n",
      "INFO:tensorflow:loss = 62194720000.0, step = 2001 (0.153 sec)\n",
      "INFO:tensorflow:global_step/sec: 615.254\n",
      "INFO:tensorflow:loss = 36636410000.0, step = 2101 (0.161 sec)\n",
      "INFO:tensorflow:global_step/sec: 641.281\n",
      "INFO:tensorflow:loss = 98307015000.0, step = 2201 (0.157 sec)\n",
      "INFO:tensorflow:global_step/sec: 645.419\n",
      "INFO:tensorflow:loss = 118521950000.0, step = 2301 (0.154 sec)\n",
      "INFO:tensorflow:global_step/sec: 653.375\n",
      "INFO:tensorflow:loss = 126574625000.0, step = 2401 (0.153 sec)\n",
      "INFO:tensorflow:global_step/sec: 663.212\n",
      "INFO:tensorflow:loss = 57768870000.0, step = 2501 (0.152 sec)\n",
      "INFO:tensorflow:global_step/sec: 661.142\n",
      "INFO:tensorflow:loss = 26988919000.0, step = 2601 (0.150 sec)\n",
      "INFO:tensorflow:global_step/sec: 649.971\n",
      "INFO:tensorflow:loss = 113191800000.0, step = 2701 (0.153 sec)\n",
      "INFO:tensorflow:global_step/sec: 654.754\n",
      "INFO:tensorflow:loss = 117108340000.0, step = 2801 (0.155 sec)\n",
      "INFO:tensorflow:global_step/sec: 662.651\n",
      "INFO:tensorflow:loss = 169861710000.0, step = 2901 (0.150 sec)\n",
      "INFO:tensorflow:global_step/sec: 615.459\n",
      "INFO:tensorflow:loss = 99643770000.0, step = 3001 (0.162 sec)\n",
      "INFO:tensorflow:global_step/sec: 664.811\n",
      "INFO:tensorflow:loss = 137875210000.0, step = 3101 (0.150 sec)\n",
      "INFO:tensorflow:global_step/sec: 660.839\n",
      "INFO:tensorflow:loss = 111242355000.0, step = 3201 (0.151 sec)\n",
      "INFO:tensorflow:global_step/sec: 628.646\n",
      "INFO:tensorflow:loss = 227104870000.0, step = 3301 (0.160 sec)\n",
      "INFO:tensorflow:global_step/sec: 654.109\n",
      "INFO:tensorflow:loss = 48276046000.0, step = 3401 (0.152 sec)\n",
      "INFO:tensorflow:global_step/sec: 643.915\n",
      "INFO:tensorflow:loss = 77454570000.0, step = 3501 (0.156 sec)\n",
      "INFO:tensorflow:global_step/sec: 610.04\n",
      "INFO:tensorflow:loss = 67610427000.0, step = 3601 (0.164 sec)\n",
      "INFO:tensorflow:global_step/sec: 644.517\n",
      "INFO:tensorflow:loss = 70227740000.0, step = 3701 (0.154 sec)\n",
      "INFO:tensorflow:global_step/sec: 609.255\n",
      "INFO:tensorflow:loss = 236076680000.0, step = 3801 (0.165 sec)\n",
      "INFO:tensorflow:global_step/sec: 655.034\n",
      "INFO:tensorflow:loss = 117473755000.0, step = 3901 (0.153 sec)\n",
      "INFO:tensorflow:global_step/sec: 653.372\n",
      "INFO:tensorflow:loss = 34835153000.0, step = 4001 (0.153 sec)\n",
      "INFO:tensorflow:global_step/sec: 645.34\n",
      "INFO:tensorflow:loss = 136923610000.0, step = 4101 (0.156 sec)\n",
      "INFO:tensorflow:global_step/sec: 650.976\n",
      "INFO:tensorflow:loss = 76433080000.0, step = 4201 (0.154 sec)\n",
      "INFO:tensorflow:global_step/sec: 612.507\n",
      "INFO:tensorflow:loss = 39851040000.0, step = 4301 (0.163 sec)\n",
      "INFO:tensorflow:global_step/sec: 653.102\n",
      "INFO:tensorflow:loss = 214227350000.0, step = 4401 (0.152 sec)\n",
      "INFO:tensorflow:global_step/sec: 643.754\n",
      "INFO:tensorflow:loss = 45510787000.0, step = 4501 (0.157 sec)\n",
      "INFO:tensorflow:global_step/sec: 655.601\n",
      "INFO:tensorflow:loss = 144976150000.0, step = 4601 (0.151 sec)\n",
      "INFO:tensorflow:global_step/sec: 661.487\n",
      "INFO:tensorflow:loss = 50525710000.0, step = 4701 (0.153 sec)\n",
      "INFO:tensorflow:global_step/sec: 641.607\n",
      "INFO:tensorflow:loss = 154760770000.0, step = 4801 (0.155 sec)\n",
      "INFO:tensorflow:global_step/sec: 669.645\n",
      "INFO:tensorflow:loss = 123889720000.0, step = 4901 (0.150 sec)\n",
      "INFO:tensorflow:global_step/sec: 623.312\n",
      "INFO:tensorflow:loss = 73351510000.0, step = 5001 (0.159 sec)\n",
      "INFO:tensorflow:global_step/sec: 660.936\n",
      "INFO:tensorflow:loss = 25824221000.0, step = 5101 (0.152 sec)\n",
      "INFO:tensorflow:global_step/sec: 668.136\n",
      "INFO:tensorflow:loss = 86290560000.0, step = 5201 (0.149 sec)\n",
      "INFO:tensorflow:global_step/sec: 678.324\n",
      "INFO:tensorflow:loss = 127511300000.0, step = 5301 (0.148 sec)\n",
      "INFO:tensorflow:global_step/sec: 674.063\n",
      "INFO:tensorflow:loss = 137867690000.0, step = 5401 (0.149 sec)\n",
      "INFO:tensorflow:global_step/sec: 665.997\n",
      "INFO:tensorflow:loss = 115767960000.0, step = 5501 (0.150 sec)\n",
      "INFO:tensorflow:global_step/sec: 687.102\n",
      "INFO:tensorflow:loss = 133774160000.0, step = 5601 (0.145 sec)\n",
      "INFO:tensorflow:global_step/sec: 669.583\n",
      "INFO:tensorflow:loss = 208299750000.0, step = 5701 (0.150 sec)\n",
      "INFO:tensorflow:global_step/sec: 681.508\n",
      "INFO:tensorflow:loss = 83823330000.0, step = 5801 (0.146 sec)\n",
      "INFO:tensorflow:global_step/sec: 683.386\n",
      "INFO:tensorflow:loss = 170112530000.0, step = 5901 (0.146 sec)\n",
      "INFO:tensorflow:global_step/sec: 682.888\n",
      "INFO:tensorflow:loss = 87772300000.0, step = 6001 (0.148 sec)\n",
      "INFO:tensorflow:global_step/sec: 682.109\n",
      "INFO:tensorflow:loss = 45944332000.0, step = 6101 (0.146 sec)\n",
      "INFO:tensorflow:global_step/sec: 655.842\n",
      "INFO:tensorflow:loss = 70671790000.0, step = 6201 (0.151 sec)\n",
      "INFO:tensorflow:global_step/sec: 678.969\n",
      "INFO:tensorflow:loss = 51834614000.0, step = 6301 (0.148 sec)\n",
      "INFO:tensorflow:global_step/sec: 664.331\n",
      "INFO:tensorflow:loss = 39126725000.0, step = 6401 (0.151 sec)\n",
      "INFO:tensorflow:global_step/sec: 665.445\n",
      "INFO:tensorflow:loss = 172851900000.0, step = 6501 (0.151 sec)\n",
      "INFO:tensorflow:global_step/sec: 652.189\n",
      "INFO:tensorflow:loss = 151721500000.0, step = 6601 (0.152 sec)\n",
      "INFO:tensorflow:global_step/sec: 667.84\n",
      "INFO:tensorflow:loss = 170139250000.0, step = 6701 (0.150 sec)\n",
      "INFO:tensorflow:global_step/sec: 683.842\n",
      "INFO:tensorflow:loss = 52620460000.0, step = 6801 (0.146 sec)\n",
      "INFO:tensorflow:global_step/sec: 669.438\n",
      "INFO:tensorflow:loss = 101678055000.0, step = 6901 (0.148 sec)\n",
      "INFO:tensorflow:global_step/sec: 679.406\n",
      "INFO:tensorflow:loss = 82069790000.0, step = 7001 (0.148 sec)\n",
      "INFO:tensorflow:global_step/sec: 680.766\n",
      "INFO:tensorflow:loss = 150811800000.0, step = 7101 (0.148 sec)\n",
      "INFO:tensorflow:global_step/sec: 679.675\n",
      "INFO:tensorflow:loss = 122062960000.0, step = 7201 (0.147 sec)\n",
      "INFO:tensorflow:global_step/sec: 674.432\n",
      "INFO:tensorflow:loss = 46478905000.0, step = 7301 (0.148 sec)\n",
      "INFO:tensorflow:global_step/sec: 519.698\n",
      "INFO:tensorflow:loss = 133384210000.0, step = 7401 (0.194 sec)\n",
      "INFO:tensorflow:global_step/sec: 541.967\n",
      "INFO:tensorflow:loss = 62480253000.0, step = 7501 (0.183 sec)\n",
      "INFO:tensorflow:global_step/sec: 673.834\n",
      "INFO:tensorflow:loss = 81703510000.0, step = 7601 (0.148 sec)\n"
     ]
    },
    {
     "name": "stdout",
     "output_type": "stream",
     "text": [
      "INFO:tensorflow:global_step/sec: 658.61\n",
      "INFO:tensorflow:loss = 20702056000.0, step = 7701 (0.153 sec)\n",
      "INFO:tensorflow:global_step/sec: 580.865\n",
      "INFO:tensorflow:loss = 49380545000.0, step = 7801 (0.174 sec)\n",
      "INFO:tensorflow:global_step/sec: 520.099\n",
      "INFO:tensorflow:loss = 177432820000.0, step = 7901 (0.190 sec)\n",
      "INFO:tensorflow:global_step/sec: 479.846\n",
      "INFO:tensorflow:loss = 49215130000.0, step = 8001 (0.210 sec)\n",
      "INFO:tensorflow:global_step/sec: 576.791\n",
      "INFO:tensorflow:loss = 29033253000.0, step = 8101 (0.172 sec)\n",
      "INFO:tensorflow:global_step/sec: 622.695\n",
      "INFO:tensorflow:loss = 125802150000.0, step = 8201 (0.163 sec)\n",
      "INFO:tensorflow:global_step/sec: 645.949\n",
      "INFO:tensorflow:loss = 69949720000.0, step = 8301 (0.152 sec)\n",
      "INFO:tensorflow:global_step/sec: 566.232\n",
      "INFO:tensorflow:loss = 104142900000.0, step = 8401 (0.177 sec)\n",
      "INFO:tensorflow:global_step/sec: 627.309\n",
      "INFO:tensorflow:loss = 66264797000.0, step = 8501 (0.158 sec)\n",
      "INFO:tensorflow:global_step/sec: 667.42\n",
      "INFO:tensorflow:loss = 36634972000.0, step = 8601 (0.149 sec)\n",
      "INFO:tensorflow:global_step/sec: 577.591\n",
      "INFO:tensorflow:loss = 49211843000.0, step = 8701 (0.174 sec)\n",
      "INFO:tensorflow:global_step/sec: 652.073\n",
      "INFO:tensorflow:loss = 47204630000.0, step = 8801 (0.152 sec)\n",
      "INFO:tensorflow:global_step/sec: 517.989\n",
      "INFO:tensorflow:loss = 145716610000.0, step = 8901 (0.194 sec)\n",
      "INFO:tensorflow:global_step/sec: 650.943\n",
      "INFO:tensorflow:loss = 130458900000.0, step = 9001 (0.154 sec)\n",
      "INFO:tensorflow:global_step/sec: 692.391\n",
      "INFO:tensorflow:loss = 79755530000.0, step = 9101 (0.144 sec)\n",
      "INFO:tensorflow:global_step/sec: 620.699\n",
      "INFO:tensorflow:loss = 159190860000.0, step = 9201 (0.162 sec)\n",
      "INFO:tensorflow:global_step/sec: 622.752\n",
      "INFO:tensorflow:loss = 75625660000.0, step = 9301 (0.161 sec)\n",
      "INFO:tensorflow:global_step/sec: 698.169\n",
      "INFO:tensorflow:loss = 88086160000.0, step = 9401 (0.143 sec)\n",
      "INFO:tensorflow:global_step/sec: 674.916\n",
      "INFO:tensorflow:loss = 173881560000.0, step = 9501 (0.148 sec)\n",
      "INFO:tensorflow:global_step/sec: 621.018\n",
      "INFO:tensorflow:loss = 235265980000.0, step = 9601 (0.162 sec)\n",
      "INFO:tensorflow:global_step/sec: 621.366\n",
      "INFO:tensorflow:loss = 137409270000.0, step = 9701 (0.160 sec)\n",
      "INFO:tensorflow:global_step/sec: 645.126\n",
      "INFO:tensorflow:loss = 63389663000.0, step = 9801 (0.155 sec)\n",
      "INFO:tensorflow:global_step/sec: 669.173\n",
      "INFO:tensorflow:loss = 37191426000.0, step = 9901 (0.151 sec)\n",
      "INFO:tensorflow:global_step/sec: 635.946\n",
      "INFO:tensorflow:loss = 99545210000.0, step = 10001 (0.155 sec)\n",
      "INFO:tensorflow:global_step/sec: 612.19\n",
      "INFO:tensorflow:loss = 68181130000.0, step = 10101 (0.163 sec)\n",
      "INFO:tensorflow:global_step/sec: 527.944\n",
      "INFO:tensorflow:loss = 88086690000.0, step = 10201 (0.190 sec)\n",
      "INFO:tensorflow:global_step/sec: 648.653\n",
      "INFO:tensorflow:loss = 36781950000.0, step = 10301 (0.154 sec)\n",
      "INFO:tensorflow:global_step/sec: 662\n",
      "INFO:tensorflow:loss = 57377137000.0, step = 10401 (0.154 sec)\n",
      "INFO:tensorflow:global_step/sec: 667.858\n",
      "INFO:tensorflow:loss = 23833297000.0, step = 10501 (0.146 sec)\n",
      "INFO:tensorflow:global_step/sec: 686.313\n",
      "INFO:tensorflow:loss = 121400760000.0, step = 10601 (0.147 sec)\n",
      "INFO:tensorflow:global_step/sec: 708.258\n",
      "INFO:tensorflow:loss = 135213120000.0, step = 10701 (0.140 sec)\n",
      "INFO:tensorflow:global_step/sec: 689.555\n",
      "INFO:tensorflow:loss = 151890690000.0, step = 10801 (0.146 sec)\n",
      "INFO:tensorflow:global_step/sec: 703.158\n",
      "INFO:tensorflow:loss = 73931940000.0, step = 10901 (0.142 sec)\n",
      "INFO:tensorflow:global_step/sec: 676.167\n",
      "INFO:tensorflow:loss = 42675460000.0, step = 11001 (0.148 sec)\n",
      "INFO:tensorflow:global_step/sec: 668.397\n",
      "INFO:tensorflow:loss = 107052600000.0, step = 11101 (0.150 sec)\n",
      "INFO:tensorflow:global_step/sec: 607.38\n",
      "INFO:tensorflow:loss = 83756600000.0, step = 11201 (0.166 sec)\n",
      "INFO:tensorflow:global_step/sec: 702.004\n",
      "INFO:tensorflow:loss = 93536610000.0, step = 11301 (0.142 sec)\n",
      "INFO:tensorflow:global_step/sec: 688.625\n",
      "INFO:tensorflow:loss = 159254270000.0, step = 11401 (0.144 sec)\n",
      "INFO:tensorflow:global_step/sec: 692.733\n",
      "INFO:tensorflow:loss = 62726900000.0, step = 11501 (0.144 sec)\n",
      "INFO:tensorflow:global_step/sec: 652.53\n",
      "INFO:tensorflow:loss = 105561910000.0, step = 11601 (0.154 sec)\n",
      "INFO:tensorflow:global_step/sec: 637.802\n",
      "INFO:tensorflow:loss = 68200956000.0, step = 11701 (0.158 sec)\n",
      "INFO:tensorflow:global_step/sec: 698.97\n",
      "INFO:tensorflow:loss = 177016300000.0, step = 11801 (0.142 sec)\n",
      "INFO:tensorflow:global_step/sec: 657.03\n",
      "INFO:tensorflow:loss = 141219330000.0, step = 11901 (0.152 sec)\n",
      "INFO:tensorflow:global_step/sec: 502.142\n",
      "INFO:tensorflow:loss = 48969777000.0, step = 12001 (0.200 sec)\n",
      "INFO:tensorflow:global_step/sec: 579.564\n",
      "INFO:tensorflow:loss = 28809656000.0, step = 12101 (0.170 sec)\n",
      "INFO:tensorflow:global_step/sec: 690.641\n",
      "INFO:tensorflow:loss = 130652010000.0, step = 12201 (0.146 sec)\n",
      "INFO:tensorflow:global_step/sec: 688.22\n",
      "INFO:tensorflow:loss = 115825115000.0, step = 12301 (0.145 sec)\n",
      "INFO:tensorflow:global_step/sec: 696.031\n",
      "INFO:tensorflow:loss = 215242300000.0, step = 12401 (0.143 sec)\n",
      "INFO:tensorflow:global_step/sec: 661.009\n",
      "INFO:tensorflow:loss = 109984540000.0, step = 12501 (0.151 sec)\n",
      "INFO:tensorflow:global_step/sec: 505.144\n",
      "INFO:tensorflow:loss = 76824580000.0, step = 12601 (0.199 sec)\n",
      "INFO:tensorflow:global_step/sec: 635.704\n",
      "INFO:tensorflow:loss = 78732214000.0, step = 12701 (0.156 sec)\n",
      "INFO:tensorflow:global_step/sec: 684.317\n",
      "INFO:tensorflow:loss = 177476710000.0, step = 12801 (0.147 sec)\n",
      "INFO:tensorflow:global_step/sec: 662.142\n",
      "INFO:tensorflow:loss = 123012290000.0, step = 12901 (0.151 sec)\n",
      "INFO:tensorflow:global_step/sec: 648.488\n",
      "INFO:tensorflow:loss = 66410332000.0, step = 13001 (0.155 sec)\n",
      "INFO:tensorflow:global_step/sec: 674.9\n",
      "INFO:tensorflow:loss = 62788026000.0, step = 13101 (0.147 sec)\n",
      "INFO:tensorflow:global_step/sec: 691.791\n",
      "INFO:tensorflow:loss = 139718740000.0, step = 13201 (0.145 sec)\n",
      "INFO:tensorflow:global_step/sec: 700.565\n",
      "INFO:tensorflow:loss = 45167776000.0, step = 13301 (0.142 sec)\n",
      "INFO:tensorflow:global_step/sec: 689.02\n",
      "INFO:tensorflow:loss = 95399450000.0, step = 13401 (0.145 sec)\n",
      "INFO:tensorflow:global_step/sec: 595.679\n",
      "INFO:tensorflow:loss = 161326630000.0, step = 13501 (0.168 sec)\n",
      "INFO:tensorflow:global_step/sec: 626.444\n",
      "INFO:tensorflow:loss = 93629130000.0, step = 13601 (0.162 sec)\n",
      "INFO:tensorflow:global_step/sec: 631.752\n",
      "INFO:tensorflow:loss = 50248204000.0, step = 13701 (0.156 sec)\n",
      "INFO:tensorflow:global_step/sec: 647.092\n",
      "INFO:tensorflow:loss = 189322560000.0, step = 13801 (0.154 sec)\n",
      "INFO:tensorflow:global_step/sec: 645.507\n",
      "INFO:tensorflow:loss = 136861320000.0, step = 13901 (0.157 sec)\n",
      "INFO:tensorflow:global_step/sec: 684.662\n",
      "INFO:tensorflow:loss = 51971985000.0, step = 14001 (0.144 sec)\n",
      "INFO:tensorflow:global_step/sec: 663.496\n",
      "INFO:tensorflow:loss = 77557940000.0, step = 14101 (0.152 sec)\n",
      "INFO:tensorflow:global_step/sec: 652.162\n",
      "INFO:tensorflow:loss = 76298390000.0, step = 14201 (0.153 sec)\n",
      "INFO:tensorflow:global_step/sec: 681.765\n",
      "INFO:tensorflow:loss = 133819630000.0, step = 14301 (0.145 sec)\n",
      "INFO:tensorflow:global_step/sec: 696.333\n",
      "INFO:tensorflow:loss = 114676000000.0, step = 14401 (0.144 sec)\n",
      "INFO:tensorflow:global_step/sec: 655.169\n",
      "INFO:tensorflow:loss = 122683970000.0, step = 14501 (0.153 sec)\n",
      "INFO:tensorflow:global_step/sec: 680.005\n",
      "INFO:tensorflow:loss = 168070200000.0, step = 14601 (0.147 sec)\n",
      "INFO:tensorflow:global_step/sec: 695.383\n",
      "INFO:tensorflow:loss = 139305200000.0, step = 14701 (0.144 sec)\n",
      "INFO:tensorflow:global_step/sec: 684.136\n",
      "INFO:tensorflow:loss = 74233120000.0, step = 14801 (0.146 sec)\n",
      "INFO:tensorflow:global_step/sec: 599.406\n",
      "INFO:tensorflow:loss = 90624434000.0, step = 14901 (0.169 sec)\n",
      "INFO:tensorflow:global_step/sec: 628.889\n",
      "INFO:tensorflow:loss = 152226760000.0, step = 15001 (0.157 sec)\n",
      "INFO:tensorflow:global_step/sec: 617.344\n",
      "INFO:tensorflow:loss = 49332010000.0, step = 15101 (0.163 sec)\n",
      "INFO:tensorflow:global_step/sec: 635.298\n",
      "INFO:tensorflow:loss = 68717460000.0, step = 15201 (0.158 sec)\n",
      "INFO:tensorflow:global_step/sec: 627.842\n",
      "INFO:tensorflow:loss = 114852040000.0, step = 15301 (0.159 sec)\n",
      "INFO:tensorflow:global_step/sec: 629.733\n",
      "INFO:tensorflow:loss = 125382590000.0, step = 15401 (0.159 sec)\n",
      "INFO:tensorflow:global_step/sec: 677.861\n",
      "INFO:tensorflow:loss = 50773254000.0, step = 15501 (0.148 sec)\n"
     ]
    },
    {
     "name": "stdout",
     "output_type": "stream",
     "text": [
      "INFO:tensorflow:global_step/sec: 695.448\n",
      "INFO:tensorflow:loss = 140130420000.0, step = 15601 (0.144 sec)\n",
      "INFO:tensorflow:global_step/sec: 703.743\n",
      "INFO:tensorflow:loss = 207422870000.0, step = 15701 (0.147 sec)\n",
      "INFO:tensorflow:global_step/sec: 669.457\n",
      "INFO:tensorflow:loss = 114939160000.0, step = 15801 (0.145 sec)\n",
      "INFO:tensorflow:global_step/sec: 698.911\n",
      "INFO:tensorflow:loss = 103972520000.0, step = 15901 (0.142 sec)\n",
      "INFO:tensorflow:global_step/sec: 707.026\n",
      "INFO:tensorflow:loss = 128509040000.0, step = 16001 (0.145 sec)\n",
      "INFO:tensorflow:global_step/sec: 621.192\n",
      "INFO:tensorflow:loss = 118119970000.0, step = 16101 (0.158 sec)\n",
      "INFO:tensorflow:global_step/sec: 633.49\n",
      "INFO:tensorflow:loss = 48471810000.0, step = 16201 (0.158 sec)\n",
      "INFO:tensorflow:global_step/sec: 628.982\n",
      "INFO:tensorflow:loss = 157867340000.0, step = 16301 (0.160 sec)\n",
      "INFO:tensorflow:global_step/sec: 668.969\n",
      "INFO:tensorflow:loss = 65339600000.0, step = 16401 (0.149 sec)\n",
      "INFO:tensorflow:global_step/sec: 680.8\n",
      "INFO:tensorflow:loss = 39430463000.0, step = 16501 (0.146 sec)\n",
      "INFO:tensorflow:global_step/sec: 687.84\n",
      "INFO:tensorflow:loss = 56615130000.0, step = 16601 (0.145 sec)\n",
      "INFO:tensorflow:global_step/sec: 617.019\n",
      "INFO:tensorflow:loss = 108942530000.0, step = 16701 (0.162 sec)\n",
      "INFO:tensorflow:global_step/sec: 625.747\n",
      "INFO:tensorflow:loss = 46206505000.0, step = 16801 (0.160 sec)\n",
      "INFO:tensorflow:global_step/sec: 620.479\n",
      "INFO:tensorflow:loss = 97193206000.0, step = 16901 (0.162 sec)\n",
      "INFO:tensorflow:global_step/sec: 652.269\n",
      "INFO:tensorflow:loss = 145299470000.0, step = 17001 (0.153 sec)\n",
      "INFO:tensorflow:global_step/sec: 655.254\n",
      "INFO:tensorflow:loss = 167553630000.0, step = 17101 (0.153 sec)\n",
      "INFO:tensorflow:global_step/sec: 653.022\n",
      "INFO:tensorflow:loss = 83988640000.0, step = 17201 (0.153 sec)\n",
      "INFO:tensorflow:global_step/sec: 651.661\n",
      "INFO:tensorflow:loss = 86012380000.0, step = 17301 (0.154 sec)\n",
      "INFO:tensorflow:global_step/sec: 641.49\n",
      "INFO:tensorflow:loss = 54533014000.0, step = 17401 (0.156 sec)\n",
      "INFO:tensorflow:global_step/sec: 659.49\n",
      "INFO:tensorflow:loss = 124551610000.0, step = 17501 (0.151 sec)\n",
      "INFO:tensorflow:global_step/sec: 659.651\n",
      "INFO:tensorflow:loss = 112335110000.0, step = 17601 (0.151 sec)\n",
      "INFO:tensorflow:global_step/sec: 639.828\n",
      "INFO:tensorflow:loss = 277562950000.0, step = 17701 (0.156 sec)\n",
      "INFO:tensorflow:global_step/sec: 659.114\n",
      "INFO:tensorflow:loss = 51630883000.0, step = 17801 (0.151 sec)\n",
      "INFO:tensorflow:global_step/sec: 661.831\n",
      "INFO:tensorflow:loss = 61248380000.0, step = 17901 (0.152 sec)\n",
      "INFO:tensorflow:global_step/sec: 404.532\n",
      "INFO:tensorflow:loss = 62684815000.0, step = 18001 (0.249 sec)\n",
      "INFO:tensorflow:global_step/sec: 457.282\n",
      "INFO:tensorflow:loss = 184193780000.0, step = 18101 (0.219 sec)\n",
      "INFO:tensorflow:global_step/sec: 537.607\n",
      "INFO:tensorflow:loss = 108960520000.0, step = 18201 (0.184 sec)\n",
      "INFO:tensorflow:global_step/sec: 535.586\n",
      "INFO:tensorflow:loss = 121972060000.0, step = 18301 (0.188 sec)\n",
      "INFO:tensorflow:global_step/sec: 611.715\n",
      "INFO:tensorflow:loss = 44023570000.0, step = 18401 (0.162 sec)\n",
      "INFO:tensorflow:global_step/sec: 668.714\n",
      "INFO:tensorflow:loss = 71571770000.0, step = 18501 (0.151 sec)\n",
      "INFO:tensorflow:global_step/sec: 629.241\n",
      "INFO:tensorflow:loss = 82875850000.0, step = 18601 (0.159 sec)\n",
      "INFO:tensorflow:global_step/sec: 624.273\n",
      "INFO:tensorflow:loss = 170071210000.0, step = 18701 (0.160 sec)\n",
      "INFO:tensorflow:global_step/sec: 661.468\n",
      "INFO:tensorflow:loss = 38682907000.0, step = 18801 (0.151 sec)\n",
      "INFO:tensorflow:global_step/sec: 692.31\n",
      "INFO:tensorflow:loss = 70959300000.0, step = 18901 (0.144 sec)\n",
      "INFO:tensorflow:global_step/sec: 673.192\n",
      "INFO:tensorflow:loss = 229555650000.0, step = 19001 (0.149 sec)\n",
      "INFO:tensorflow:global_step/sec: 679.222\n",
      "INFO:tensorflow:loss = 45320970000.0, step = 19101 (0.148 sec)\n",
      "INFO:tensorflow:global_step/sec: 694.797\n",
      "INFO:tensorflow:loss = 54501040000.0, step = 19201 (0.144 sec)\n",
      "INFO:tensorflow:global_step/sec: 693.182\n",
      "INFO:tensorflow:loss = 72774770000.0, step = 19301 (0.143 sec)\n",
      "INFO:tensorflow:global_step/sec: 631.526\n",
      "INFO:tensorflow:loss = 69859434000.0, step = 19401 (0.159 sec)\n",
      "INFO:tensorflow:global_step/sec: 650.366\n",
      "INFO:tensorflow:loss = 57495780000.0, step = 19501 (0.155 sec)\n",
      "INFO:tensorflow:global_step/sec: 690.074\n",
      "INFO:tensorflow:loss = 70462600000.0, step = 19601 (0.144 sec)\n",
      "INFO:tensorflow:global_step/sec: 693.387\n",
      "INFO:tensorflow:loss = 61281420000.0, step = 19701 (0.146 sec)\n",
      "INFO:tensorflow:global_step/sec: 692.377\n",
      "INFO:tensorflow:loss = 133936546000.0, step = 19801 (0.143 sec)\n",
      "INFO:tensorflow:global_step/sec: 697.845\n",
      "INFO:tensorflow:loss = 145021140000.0, step = 19901 (0.144 sec)\n",
      "INFO:tensorflow:global_step/sec: 701.358\n",
      "INFO:tensorflow:loss = 96641840000.0, step = 20001 (0.141 sec)\n",
      "INFO:tensorflow:global_step/sec: 695.92\n",
      "INFO:tensorflow:loss = 223250660000.0, step = 20101 (0.144 sec)\n",
      "INFO:tensorflow:global_step/sec: 704.635\n",
      "INFO:tensorflow:loss = 89565905000.0, step = 20201 (0.142 sec)\n",
      "INFO:tensorflow:global_step/sec: 698.563\n",
      "INFO:tensorflow:loss = 134625100000.0, step = 20301 (0.144 sec)\n",
      "INFO:tensorflow:global_step/sec: 698.03\n",
      "INFO:tensorflow:loss = 44585040000.0, step = 20401 (0.142 sec)\n",
      "INFO:tensorflow:global_step/sec: 696.827\n",
      "INFO:tensorflow:loss = 48660980000.0, step = 20501 (0.144 sec)\n",
      "INFO:tensorflow:global_step/sec: 700.278\n",
      "INFO:tensorflow:loss = 76320645000.0, step = 20601 (0.142 sec)\n",
      "INFO:tensorflow:global_step/sec: 693.414\n",
      "INFO:tensorflow:loss = 75215315000.0, step = 20701 (0.145 sec)\n",
      "INFO:tensorflow:global_step/sec: 691.935\n",
      "INFO:tensorflow:loss = 34478002000.0, step = 20801 (0.145 sec)\n",
      "INFO:tensorflow:global_step/sec: 700.675\n",
      "INFO:tensorflow:loss = 83201730000.0, step = 20901 (0.140 sec)\n",
      "INFO:tensorflow:global_step/sec: 702.216\n",
      "INFO:tensorflow:loss = 136980500000.0, step = 21001 (0.144 sec)\n",
      "INFO:tensorflow:global_step/sec: 696.766\n",
      "INFO:tensorflow:loss = 126905900000.0, step = 21101 (0.143 sec)\n",
      "INFO:tensorflow:global_step/sec: 649.015\n",
      "INFO:tensorflow:loss = 32776307000.0, step = 21201 (0.155 sec)\n",
      "INFO:tensorflow:global_step/sec: 650.462\n",
      "INFO:tensorflow:loss = 79917740000.0, step = 21301 (0.153 sec)\n",
      "INFO:tensorflow:global_step/sec: 697.491\n",
      "INFO:tensorflow:loss = 108102710000.0, step = 21401 (0.143 sec)\n",
      "INFO:tensorflow:global_step/sec: 650.845\n",
      "INFO:tensorflow:loss = 29497876000.0, step = 21501 (0.154 sec)\n",
      "INFO:tensorflow:global_step/sec: 638.264\n",
      "INFO:tensorflow:loss = 97775860000.0, step = 21601 (0.160 sec)\n",
      "INFO:tensorflow:global_step/sec: 648.624\n",
      "INFO:tensorflow:loss = 55493060000.0, step = 21701 (0.150 sec)\n",
      "INFO:tensorflow:global_step/sec: 643.515\n",
      "INFO:tensorflow:loss = 91554800000.0, step = 21801 (0.157 sec)\n",
      "INFO:tensorflow:global_step/sec: 685.557\n",
      "INFO:tensorflow:loss = 90722705000.0, step = 21901 (0.145 sec)\n",
      "INFO:tensorflow:global_step/sec: 683.328\n",
      "INFO:tensorflow:loss = 120990160000.0, step = 22001 (0.145 sec)\n",
      "INFO:tensorflow:global_step/sec: 601.829\n",
      "INFO:tensorflow:loss = 93970235000.0, step = 22101 (0.169 sec)\n",
      "INFO:tensorflow:global_step/sec: 629.795\n",
      "INFO:tensorflow:loss = 25621502000.0, step = 22201 (0.157 sec)\n",
      "INFO:tensorflow:global_step/sec: 662.468\n",
      "INFO:tensorflow:loss = 77537840000.0, step = 22301 (0.150 sec)\n",
      "INFO:tensorflow:global_step/sec: 615.613\n",
      "INFO:tensorflow:loss = 163816960000.0, step = 22401 (0.163 sec)\n",
      "INFO:tensorflow:global_step/sec: 618.958\n",
      "INFO:tensorflow:loss = 195109910000.0, step = 22501 (0.162 sec)\n",
      "INFO:tensorflow:global_step/sec: 637.148\n",
      "INFO:tensorflow:loss = 61178614000.0, step = 22601 (0.158 sec)\n",
      "INFO:tensorflow:global_step/sec: 657.051\n",
      "INFO:tensorflow:loss = 33013115000.0, step = 22701 (0.151 sec)\n",
      "INFO:tensorflow:global_step/sec: 595.738\n",
      "INFO:tensorflow:loss = 100652730000.0, step = 22801 (0.167 sec)\n",
      "INFO:tensorflow:global_step/sec: 624.935\n",
      "INFO:tensorflow:loss = 38209946000.0, step = 22901 (0.160 sec)\n",
      "INFO:tensorflow:global_step/sec: 661.916\n",
      "INFO:tensorflow:loss = 81046980000.0, step = 23001 (0.152 sec)\n",
      "INFO:tensorflow:global_step/sec: 675.103\n",
      "INFO:tensorflow:loss = 86704000000.0, step = 23101 (0.150 sec)\n",
      "INFO:tensorflow:global_step/sec: 654.599\n",
      "INFO:tensorflow:loss = 104629750000.0, step = 23201 (0.150 sec)\n",
      "INFO:tensorflow:global_step/sec: 684.594\n",
      "INFO:tensorflow:loss = 88747850000.0, step = 23301 (0.146 sec)\n",
      "INFO:tensorflow:global_step/sec: 696.238\n",
      "INFO:tensorflow:loss = 58145858000.0, step = 23401 (0.144 sec)\n"
     ]
    },
    {
     "name": "stdout",
     "output_type": "stream",
     "text": [
      "INFO:tensorflow:global_step/sec: 685.803\n",
      "INFO:tensorflow:loss = 108983615000.0, step = 23501 (0.145 sec)\n",
      "INFO:tensorflow:global_step/sec: 698.51\n",
      "INFO:tensorflow:loss = 111710240000.0, step = 23601 (0.144 sec)\n",
      "INFO:tensorflow:global_step/sec: 684.4\n",
      "INFO:tensorflow:loss = 125964120000.0, step = 23701 (0.145 sec)\n",
      "INFO:tensorflow:global_step/sec: 695.979\n",
      "INFO:tensorflow:loss = 59564550000.0, step = 23801 (0.144 sec)\n",
      "INFO:tensorflow:global_step/sec: 701.338\n",
      "INFO:tensorflow:loss = 150433530000.0, step = 23901 (0.142 sec)\n",
      "INFO:tensorflow:global_step/sec: 650.79\n",
      "INFO:tensorflow:loss = 64348537000.0, step = 24001 (0.154 sec)\n",
      "INFO:tensorflow:global_step/sec: 675.95\n",
      "INFO:tensorflow:loss = 166627600000.0, step = 24101 (0.147 sec)\n",
      "INFO:tensorflow:global_step/sec: 649.287\n",
      "INFO:tensorflow:loss = 98160330000.0, step = 24201 (0.154 sec)\n",
      "INFO:tensorflow:global_step/sec: 661.586\n",
      "INFO:tensorflow:loss = 122276350000.0, step = 24301 (0.151 sec)\n",
      "INFO:tensorflow:global_step/sec: 683.379\n",
      "INFO:tensorflow:loss = 44158046000.0, step = 24401 (0.146 sec)\n",
      "INFO:tensorflow:global_step/sec: 692.968\n",
      "INFO:tensorflow:loss = 70593740000.0, step = 24501 (0.144 sec)\n",
      "INFO:tensorflow:global_step/sec: 689.109\n",
      "INFO:tensorflow:loss = 90762740000.0, step = 24601 (0.145 sec)\n",
      "INFO:tensorflow:global_step/sec: 704.972\n",
      "INFO:tensorflow:loss = 68403503000.0, step = 24701 (0.142 sec)\n",
      "INFO:tensorflow:global_step/sec: 693.943\n",
      "INFO:tensorflow:loss = 63493080000.0, step = 24801 (0.144 sec)\n",
      "INFO:tensorflow:global_step/sec: 694.186\n",
      "INFO:tensorflow:loss = 77882390000.0, step = 24901 (0.143 sec)\n",
      "INFO:tensorflow:Saving checkpoints for 25000 into /tmp/tmp_7ed5qvm/model.ckpt.\n",
      "INFO:tensorflow:Loss for final step: 67279864000.0.\n"
     ]
    },
    {
     "data": {
      "text/plain": [
       "<tensorflow.python.estimator.canned.dnn.DNNRegressor at 0x7fd62b6718d0>"
      ]
     },
     "execution_count": 23,
     "metadata": {},
     "output_type": "execute_result"
    }
   ],
   "source": [
    "model.train(input_fn=input_func,steps=25000)"
   ]
  },
  {
   "cell_type": "markdown",
   "metadata": {},
   "source": [
    "** Create a prediction input function and then use the .predict method off your estimator model to create a list or predictions on your test data. **"
   ]
  },
  {
   "cell_type": "code",
   "execution_count": 24,
   "metadata": {},
   "outputs": [],
   "source": [
    "predict_input_func = tf.estimator.inputs.pandas_input_fn(\n",
    "      x=X_test,\n",
    "      batch_size=10,\n",
    "      num_epochs=1,\n",
    "      shuffle=False)"
   ]
  },
  {
   "cell_type": "code",
   "execution_count": 25,
   "metadata": {},
   "outputs": [],
   "source": [
    "pred_gen = model.predict(predict_input_func)"
   ]
  },
  {
   "cell_type": "code",
   "execution_count": 26,
   "metadata": {},
   "outputs": [
    {
     "name": "stdout",
     "output_type": "stream",
     "text": [
      "INFO:tensorflow:Calling model_fn.\n",
      "INFO:tensorflow:Done calling model_fn.\n",
      "INFO:tensorflow:Graph was finalized.\n",
      "INFO:tensorflow:Restoring parameters from /tmp/tmp_7ed5qvm/model.ckpt-25000\n",
      "INFO:tensorflow:Running local_init_op.\n",
      "INFO:tensorflow:Done running local_init_op.\n"
     ]
    }
   ],
   "source": [
    "predictions = list(pred_gen)"
   ]
  },
  {
   "cell_type": "markdown",
   "metadata": {},
   "source": [
    "** Calculate the RMSE. Do this manually or use [sklearn.metrics](http://scikit-learn.org/stable/modules/generated/sklearn.metrics.mean_squared_error.html) **"
   ]
  },
  {
   "cell_type": "code",
   "execution_count": 27,
   "metadata": {},
   "outputs": [],
   "source": [
    "final_preds = []\n",
    "for pred in predictions:\n",
    "    final_preds.append(pred['predictions'])"
   ]
  },
  {
   "cell_type": "code",
   "execution_count": 28,
   "metadata": {},
   "outputs": [],
   "source": [
    "from sklearn.metrics import mean_squared_error"
   ]
  },
  {
   "cell_type": "code",
   "execution_count": 29,
   "metadata": {},
   "outputs": [
    {
     "data": {
      "text/plain": [
       "96792.41210239378"
      ]
     },
     "execution_count": 29,
     "metadata": {},
     "output_type": "execute_result"
    }
   ],
   "source": [
    "mean_squared_error(y_test,final_preds)**0.5"
   ]
  },
  {
   "cell_type": "markdown",
   "metadata": {},
   "source": []
  }
 ],
 "metadata": {
  "kernelspec": {
   "display_name": "Python 3",
   "language": "python",
   "name": "python3"
  },
  "language_info": {
   "codemirror_mode": {
    "name": "ipython",
    "version": 3
   },
   "file_extension": ".py",
   "mimetype": "text/x-python",
   "name": "python",
   "nbconvert_exporter": "python",
   "pygments_lexer": "ipython3",
   "version": "3.6.5"
  }
 },
 "nbformat": 4,
 "nbformat_minor": 2
}
